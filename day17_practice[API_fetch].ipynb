{
 "cells": [
  {
   "cell_type": "markdown",
   "id": "653bbe0c-4d4a-48ab-aabc-f5c59d814c16",
   "metadata": {},
   "source": [
    "# API FETCH TO COLLECT DATA  - By ***Anjal Bhattarai***"
   ]
  },
  {
   "cell_type": "markdown",
   "id": "cac5f91c-6127-42d4-a2cc-f55abceb1e89",
   "metadata": {},
   "source": [
    "### 1. get json file from api"
   ]
  },
  {
   "cell_type": "code",
   "execution_count": 1,
   "id": "394ae99b-397c-446b-bb5b-c82c888f6bfe",
   "metadata": {},
   "outputs": [],
   "source": [
    "import requests\n",
    "api_key = YOUR_API_PLEASE\n",
    "url = 'https://api.spoonacular.com/recipes/complexSearch?diet=vegetarian&number=10&addRecipeInformation=true&fillIngredients=true&apiKey=api_key'\n",
    "response = requests.get(url)\n",
    "recipe_json__file = response.json()['results']"
   ]
  },
  {
   "cell_type": "markdown",
   "id": "0d63900c-757a-4a6c-ac05-10cc8fe971d0",
   "metadata": {},
   "source": [
    "### 2. select required column and make a dataframe"
   ]
  },
  {
   "cell_type": "code",
   "execution_count": 19,
   "id": "5cbe07eb-6b4f-4c75-be27-d7adbe7b444e",
   "metadata": {},
   "outputs": [
    {
     "data": {
      "text/html": [
       "<div>\n",
       "<style scoped>\n",
       "    .dataframe tbody tr th:only-of-type {\n",
       "        vertical-align: middle;\n",
       "    }\n",
       "\n",
       "    .dataframe tbody tr th {\n",
       "        vertical-align: top;\n",
       "    }\n",
       "\n",
       "    .dataframe thead th {\n",
       "        text-align: right;\n",
       "    }\n",
       "</style>\n",
       "<table border=\"1\" class=\"dataframe\">\n",
       "  <thead>\n",
       "    <tr style=\"text-align: right;\">\n",
       "      <th></th>\n",
       "      <th>title</th>\n",
       "      <th>readyInMinutes</th>\n",
       "      <th>vegetarian</th>\n",
       "      <th>veryPopular</th>\n",
       "      <th>healthScore</th>\n",
       "    </tr>\n",
       "    <tr>\n",
       "      <th>recipe no.</th>\n",
       "      <th></th>\n",
       "      <th></th>\n",
       "      <th></th>\n",
       "      <th></th>\n",
       "      <th></th>\n",
       "    </tr>\n",
       "  </thead>\n",
       "  <tbody>\n",
       "    <tr>\n",
       "      <th>1</th>\n",
       "      <td>Asparagus and Pea Soup: Real Convenience Food</td>\n",
       "      <td>20</td>\n",
       "      <td>True</td>\n",
       "      <td>False</td>\n",
       "      <td>100.0</td>\n",
       "    </tr>\n",
       "    <tr>\n",
       "      <th>2</th>\n",
       "      <td>Garlicky Kale</td>\n",
       "      <td>45</td>\n",
       "      <td>True</td>\n",
       "      <td>False</td>\n",
       "      <td>83.0</td>\n",
       "    </tr>\n",
       "    <tr>\n",
       "      <th>3</th>\n",
       "      <td>Red Kidney Bean Jambalaya</td>\n",
       "      <td>45</td>\n",
       "      <td>True</td>\n",
       "      <td>False</td>\n",
       "      <td>96.0</td>\n",
       "    </tr>\n",
       "    <tr>\n",
       "      <th>4</th>\n",
       "      <td>Cauliflower, Brown Rice, and Vegetable Fried Rice</td>\n",
       "      <td>30</td>\n",
       "      <td>True</td>\n",
       "      <td>True</td>\n",
       "      <td>51.0</td>\n",
       "    </tr>\n",
       "    <tr>\n",
       "      <th>5</th>\n",
       "      <td>Quinoa and Chickpea Salad with Sun-Dried Tomat...</td>\n",
       "      <td>45</td>\n",
       "      <td>True</td>\n",
       "      <td>False</td>\n",
       "      <td>100.0</td>\n",
       "    </tr>\n",
       "    <tr>\n",
       "      <th>6</th>\n",
       "      <td>Easy Homemade Rice and Beans</td>\n",
       "      <td>35</td>\n",
       "      <td>True</td>\n",
       "      <td>True</td>\n",
       "      <td>60.0</td>\n",
       "    </tr>\n",
       "    <tr>\n",
       "      <th>7</th>\n",
       "      <td>Tuscan White Bean Soup with Olive Oil and Rose...</td>\n",
       "      <td>45</td>\n",
       "      <td>True</td>\n",
       "      <td>False</td>\n",
       "      <td>94.0</td>\n",
       "    </tr>\n",
       "    <tr>\n",
       "      <th>8</th>\n",
       "      <td>Crunchy Brussels Sprouts Side Dish</td>\n",
       "      <td>30</td>\n",
       "      <td>True</td>\n",
       "      <td>False</td>\n",
       "      <td>100.0</td>\n",
       "    </tr>\n",
       "    <tr>\n",
       "      <th>9</th>\n",
       "      <td>Broccolini Quinoa Pilaf</td>\n",
       "      <td>30</td>\n",
       "      <td>True</td>\n",
       "      <td>False</td>\n",
       "      <td>74.0</td>\n",
       "    </tr>\n",
       "    <tr>\n",
       "      <th>10</th>\n",
       "      <td>Farro With Mushrooms and Asparagus</td>\n",
       "      <td>75</td>\n",
       "      <td>True</td>\n",
       "      <td>False</td>\n",
       "      <td>80.0</td>\n",
       "    </tr>\n",
       "  </tbody>\n",
       "</table>\n",
       "</div>"
      ],
      "text/plain": [
       "                                                        title  readyInMinutes  \\\n",
       "recipe no.                                                                      \n",
       "1               Asparagus and Pea Soup: Real Convenience Food              20   \n",
       "2                                               Garlicky Kale              45   \n",
       "3                                   Red Kidney Bean Jambalaya              45   \n",
       "4           Cauliflower, Brown Rice, and Vegetable Fried Rice              30   \n",
       "5           Quinoa and Chickpea Salad with Sun-Dried Tomat...              45   \n",
       "6                                Easy Homemade Rice and Beans              35   \n",
       "7           Tuscan White Bean Soup with Olive Oil and Rose...              45   \n",
       "8                          Crunchy Brussels Sprouts Side Dish              30   \n",
       "9                                     Broccolini Quinoa Pilaf              30   \n",
       "10                         Farro With Mushrooms and Asparagus              75   \n",
       "\n",
       "            vegetarian  veryPopular  healthScore  \n",
       "recipe no.                                        \n",
       "1                 True        False        100.0  \n",
       "2                 True        False         83.0  \n",
       "3                 True        False         96.0  \n",
       "4                 True         True         51.0  \n",
       "5                 True        False        100.0  \n",
       "6                 True         True         60.0  \n",
       "7                 True        False         94.0  \n",
       "8                 True        False        100.0  \n",
       "9                 True        False         74.0  \n",
       "10                True        False         80.0  "
      ]
     },
     "execution_count": 19,
     "metadata": {},
     "output_type": "execute_result"
    }
   ],
   "source": [
    "import pandas as pd \n",
    "df = pd.DataFrame(recipe_json__file)[['id', 'title', 'readyInMinutes', 'vegetarian', 'veryPopular', 'healthScore' ]] \n",
    "df = df.drop(columns=['id'])\n",
    "df.insert(0, 'recipe no.', range(1, len(df) + 1))\n",
    "df = df.set_index('recipe no.')\n",
    "df"
   ]
  },
  {
   "cell_type": "markdown",
   "id": "1dbc9ae9-255c-4366-86b3-b9a0ae611c40",
   "metadata": {},
   "source": [
    "### 3. Save to a csv file"
   ]
  },
  {
   "cell_type": "code",
   "execution_count": 23,
   "id": "43544e3a-2585-4634-80a5-5ee2bf194e21",
   "metadata": {},
   "outputs": [],
   "source": [
    "df.to_csv('Recipe data.csv')"
   ]
  }
 ],
 "metadata": {
  "kernelspec": {
   "display_name": "Python [conda env:base] *",
   "language": "python",
   "name": "conda-base-py"
  },
  "language_info": {
   "codemirror_mode": {
    "name": "ipython",
    "version": 3
   },
   "file_extension": ".py",
   "mimetype": "text/x-python",
   "name": "python",
   "nbconvert_exporter": "python",
   "pygments_lexer": "ipython3",
   "version": "3.12.7"
  }
 },
 "nbformat": 4,
 "nbformat_minor": 5
}
